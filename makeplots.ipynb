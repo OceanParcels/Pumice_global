{
 "cells": [
  {
   "cell_type": "code",
   "execution_count": null,
   "metadata": {},
   "outputs": [],
   "source": [
    "%pylab inline\n",
    "import xarray as xr\n",
    "from matplotlib import animation, rc\n",
    "from parcels.plotting import create_parcelsfig_axis, cartopy_colorbar\n",
    "from parcels import plotTrajectoriesFile\n",
    "from matplotlib import colors\n",
    "from progressbar import ProgressBar\n",
    "from os import environ"
   ]
  },
  {
   "cell_type": "code",
   "execution_count": null,
   "metadata": {},
   "outputs": [],
   "source": [
    "environ[\"HDF5_USE_FILE_LOCKING\"] = \"FALSE\"\n",
    "filename = 'pumice_wind1pct_stokes_hycom_delayedtime.nc'\n",
    "pfile = xr.open_dataset(str(filename), decode_cf=True)\n",
    "lon = np.ma.filled(pfile.variables['lon'], np.nan)\n",
    "lat = np.ma.filled(pfile.variables['lat'], np.nan)\n",
    "time = np.ma.filled(pfile.variables['time'], np.nan)\n",
    "\n",
    "pfile.close()\n",
    "pbar = ProgressBar()\n",
    "for p in pbar(range(lon.shape[1])):\n",
    "    lon[:, p] = [ln if ln < 180 else ln - 360 for ln in lon[:, p]]"
   ]
  },
  {
   "cell_type": "code",
   "execution_count": null,
   "metadata": {},
   "outputs": [],
   "source": [
    "pylab.rcParams['figure.figsize'] = (15, 10)\n",
    "\n",
    "plt, fig, ax, cartopy = create_parcelsfig_axis(spherical=True)\n",
    "_, _, _, cs = plt.hist2d(lon[~np.isnan(lon)], lat[~np.isnan(lat)], bins=[180, 75], norm=colors.LogNorm())\n",
    "plt.scatter(lon[:, 0], lat[:, 0], c='r', s=10, transform=cartopy.crs.Geodetic())\n",
    "cartopy_colorbar(cs, plt, fig, ax)\n",
    "ax.set_title('Particle histogram for %s' % filename)\n",
    "plt.show()"
   ]
  },
  {
   "cell_type": "code",
   "execution_count": null,
   "metadata": {},
   "outputs": [],
   "source": [
    "pylab.rcParams['figure.figsize'] = (8, 4)\n",
    "plottimes = time[0,0] + np.arange(0, np.timedelta64(365*3, 'D'), np.timedelta64(5, 'D'))\n",
    "\n",
    "b = time == plottimes[0]\n",
    "plt, fig, ax, cartopy = create_parcelsfig_axis(spherical=True)\n",
    "scat = ax.scatter(lon[b], lat[b], s=20, color='k', transform=cartopy.crs.Geodetic())\n",
    "\n",
    "ttl = ax.set_title('Particles at time ' + str(plottimes[0]))\n",
    "frames = np.arange(1, len(plottimes))\n",
    "\n",
    "def animate(t):\n",
    "    b = time == plottimes[t]\n",
    "    scat.set_offsets(np.vstack((lon[b], lat[b])).transpose())\n",
    "    ttl.set_text('Particle at time ' + str(plottimes[t]))\n",
    "    return scat,\n",
    "\n",
    "rc('animation', html='html5')\n",
    "anim = animation.FuncAnimation(fig, animate, frames=frames, interval=100, blit=False)\n",
    "\n",
    "from IPython.display import HTML\n",
    "HTML(anim.to_html5_video())"
   ]
  },
  {
   "cell_type": "code",
   "execution_count": null,
   "metadata": {},
   "outputs": [],
   "source": []
  }
 ],
 "metadata": {
  "kernelspec": {
   "display_name": "Python 2",
   "language": "python",
   "name": "python2"
  },
  "language_info": {
   "codemirror_mode": {
    "name": "ipython",
    "version": 2
   },
   "file_extension": ".py",
   "mimetype": "text/x-python",
   "name": "python",
   "nbconvert_exporter": "python",
   "pygments_lexer": "ipython2",
   "version": "2.7.15"
  }
 },
 "nbformat": 4,
 "nbformat_minor": 2
}
